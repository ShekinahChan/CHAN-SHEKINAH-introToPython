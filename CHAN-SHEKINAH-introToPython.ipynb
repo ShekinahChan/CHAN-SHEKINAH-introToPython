{
 "cells": [
  {
   "cell_type": "raw",
   "id": "89d8afa9-805e-467b-a0e9-5585b06fbbfe",
   "metadata": {},
   "source": [
    "Student Details\n",
    "ID Number: 195700\n",
    "Surname: CHAN\n",
    "Year and Course: 4 BS MGT\n",
    "Problem 1 (5 points)\n",
    "This is the only problem in this assignment.\n",
    "\n",
    "Overall prompt:\n",
    "Write a program that prompts the user to input three positive integers and outputs the average of those three positive integers.\n",
    "\n",
    "The program must follow these specifications:\n",
    "\n",
    "Accept the user's input numbers one at a time. Use this format:\n",
    "Enter first number: {firstnumber}\n",
    "Enter second number: {secondnumber}\n",
    "Enter third number: {thirdnumber}\n",
    "2. The output should display using this format:\n",
    "The average is {average}.\n",
    "3. The program must, at some point, call a function called three_number_average that accepts three arguments and returns the average of those three arguments."
   ]
  },
  {
   "cell_type": "code",
   "execution_count": 1,
   "id": "6650d6a1-5c1d-4fb8-adaf-0fe4d33952e1",
   "metadata": {},
   "outputs": [
    {
     "name": "stdin",
     "output_type": "stream",
     "text": [
      "Enter first number:  1\n",
      "Enter second number:  3\n",
      "Enter third number:  5\n"
     ]
    },
    {
     "name": "stdout",
     "output_type": "stream",
     "text": [
      "The average is 3.0\n"
     ]
    }
   ],
   "source": [
    "def three_number_average(num1, num2, num3):\n",
    "    return (num1 + num2 + num3) / 3\n",
    "\n",
    "num1 = int(input(\"Enter first number: \"))\n",
    "num2 = int(input(\"Enter second number: \"))\n",
    "num3 = int(input(\"Enter third number: \"))\n",
    "\n",
    "avg = three_number_average(num1, num2, num3)\n",
    "\n",
    "print(\"The average is\", avg)"
   ]
  },
  {
   "cell_type": "code",
   "execution_count": null,
   "id": "8443584d-21f6-4b71-921e-a8b15dad1b58",
   "metadata": {},
   "outputs": [],
   "source": []
  }
 ],
 "metadata": {
  "kernelspec": {
   "display_name": "Python 3 (ipykernel)",
   "language": "python",
   "name": "python3"
  },
  "language_info": {
   "codemirror_mode": {
    "name": "ipython",
    "version": 3
   },
   "file_extension": ".py",
   "mimetype": "text/x-python",
   "name": "python",
   "nbconvert_exporter": "python",
   "pygments_lexer": "ipython3",
   "version": "3.9.13"
  }
 },
 "nbformat": 4,
 "nbformat_minor": 5
}
